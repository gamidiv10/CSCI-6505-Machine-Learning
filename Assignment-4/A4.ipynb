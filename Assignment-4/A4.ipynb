{
  "nbformat": 4,
  "nbformat_minor": 0,
  "metadata": {
    "colab": {
      "name": "A4.ipynb",
      "provenance": [],
      "collapsed_sections": []
    },
    "kernelspec": {
      "name": "python3",
      "display_name": "Python 3"
    }
  },
  "cells": [
    {
      "cell_type": "markdown",
      "metadata": {
        "id": "57dj8O-QoRhw",
        "colab_type": "text"
      },
      "source": [
        "# Submitted by Vamsi Gamidi, B00834696"
      ]
    },
    {
      "cell_type": "markdown",
      "metadata": {
        "id": "vp_uyStFVQM-",
        "colab_type": "text"
      },
      "source": [
        "# 2.a. PCA for data visualization"
      ]
    },
    {
      "cell_type": "code",
      "metadata": {
        "id": "Bk3tzi-5HPpU",
        "colab_type": "code",
        "outputId": "b15cb49b-28cd-4298-a752-c3297ac8a858",
        "colab": {
          "base_uri": "https://localhost:8080/",
          "height": 562
        }
      },
      "source": [
        "import matplotlib.pyplot as plt\n",
        "from sklearn import datasets\n",
        "from sklearn.decomposition import PCA\n",
        "\n",
        "iris = datasets.load_iris()\n",
        "X = iris.data\n",
        "y = iris.target\n",
        "target_names = iris.target_names\n",
        "pca = PCA(n_components=4)\n",
        "transformed_data = pca.fit(X).transform(X)\n",
        "\n",
        "plt.figure()\n",
        "colors = ['r', 'g', 'b']\n",
        "\n",
        "for color, i, target_name in zip(colors, [0, 1, 2], target_names):\n",
        "    plt.scatter(transformed_data[:, :2][y == i, 0], transformed_data[:, :2][y == i, 1], color=color, alpha=1, lw=1,\n",
        "                label=target_name)\n",
        "plt.legend(loc='best', shadow=False, scatterpoints=1)\n",
        "plt.title('PCA of IRIS dataset')\n",
        "\n",
        "plt.figure()\n",
        "for color, i, target_name in zip(colors, [0, 1, 2], target_names):\n",
        "    plt.scatter(transformed_data[:, -2:][y == i, 0], transformed_data[:, -2:][y == i, 1], color=color, alpha=1, lw=1,\n",
        "                label=target_name)\n",
        "plt.legend(loc='best', scatterpoints=1)\n",
        "plt.title('PCA of IRIS dataset')\n",
        "plt.show()\n",
        "\n",
        "print(pca.explained_variance_ratio_)"
      ],
      "execution_count": 3,
      "outputs": [
        {
          "output_type": "display_data",
          "data": {
            "image/png": "[encoded data removed]",
            "text/plain": [
              "<Figure size 432x288 with 1 Axes>"
            ]
          },
          "metadata": {
            "tags": []
          }
        },
        {
          "output_type": "display_data",
          "data": {
            "image/png": "[encoded data removed]",
            "text/plain": [
              "<Figure size 432x288 with 1 Axes>"
            ]
          },
          "metadata": {
            "tags": []
          }
        },
        {
          "output_type": "stream",
          "text": [
            "[0.92461872 0.05306648 0.01710261 0.00521218]\n"
          ],
          "name": "stdout"
        }
      ]
    },
    {
      "cell_type": "markdown",
      "metadata": {
        "id": "xDSWYnrkWD0V",
        "colab_type": "text"
      },
      "source": [
        "# 2.b. PCA for feature selection"
      ]
    },
    {
      "cell_type": "code",
      "metadata": {
        "id": "ZRz3RGTMWUuO",
        "colab_type": "code",
        "colab": {}
      },
      "source": [
        "import numpy as np\n",
        "from sklearn.datasets import fetch_openml\n",
        "import torch\n",
        "import torch.nn as nn\n",
        "import torch.nn.functional as F\n",
        "import torch.optim as optim\n",
        "import torchvision\n",
        "from torchvision import datasets\n",
        "from torch.utils.data import Dataset, DataLoader\n",
        "import sklearn\n",
        "from sklearn.preprocessing import StandardScaler\n",
        "from sklearn.decomposition import PCA\n",
        "import matplotlib.pyplot as plt\n",
        "from sklearn.model_selection import train_test_split\n",
        "from sklearn.neural_network import MLPClassifier\n",
        "from sklearn.metrics import accuracy_score\n"
      ],
      "execution_count": 0,
      "outputs": []
    },
    {
      "cell_type": "code",
      "metadata": {
        "id": "B31Gn_LjwPpv",
        "colab_type": "code",
        "colab": {
          "base_uri": "https://localhost:8080/",
          "height": 84
        },
        "outputId": "17003eca-a651-48a1-f4b3-15e21e988e7f"
      },
      "source": [
        "mnist = fetch_openml('mnist_784')\n",
        "accuracy_mlp = []\n",
        "variance_list = [0.5, 0.75, 0.9, 0.95]\n",
        "for variance in variance_list:\n",
        "  pca = PCA(variance)\n",
        "  scaler = StandardScaler()\n",
        "  pca_data = pca.fit_transform(mnist.data)\n",
        "  train_img, test_img, train_lbl, test_lbl = train_test_split(pca_data, mnist.target)\n",
        "  train_img = scaler.fit_transform(train_img)\n",
        "  test_img = scaler.transform(test_img)\n",
        "  mlp = MLPClassifier(hidden_layer_sizes=(6),max_iter=600, random_state=0)\n",
        "  mlp.fit(train_img,train_lbl)\n",
        "  pred = mlp.predict(test_img)\n",
        "  accuracy = accuracy_score(test_lbl, pred)\n",
        "  print(\"variance: \",variance, \" accuracy \", accuracy)\n",
        "  accuracy_mlp.append(accuracy)\n"
      ],
      "execution_count": 17,
      "outputs": [
        {
          "output_type": "stream",
          "text": [
            "variance:  0.5  accuracy  0.8148571428571428\n",
            "variance:  0.75  accuracy  0.8841714285714286\n",
            "variance:  0.9  accuracy  0.9057714285714286\n",
            "variance:  0.95  accuracy  0.9112\n"
          ],
          "name": "stdout"
        }
      ]
    },
    {
      "cell_type": "code",
      "metadata": {
        "id": "fRwBF-hkPqSi",
        "colab_type": "code",
        "colab": {}
      },
      "source": [
        "def eval_net(epochs, batch_size):\n",
        "\n",
        "  losses = []\n",
        "  train_acc = 0\n",
        "  test_acc = 0\n",
        "\n",
        "  train_loader = torch.utils.data.DataLoader(train_data, batch_size=batch_size, shuffle=True)\n",
        "  test_loader = torch.utils.data.DataLoader(test_data, batch_size=batch_size, shuffle=False)\n",
        "\n",
        "  class Net(nn.Module):\n",
        "    def __init__(self):\n",
        "      super(Net, self).__init__()\n",
        "      self.conv1 = nn.Conv2d(1, 6, 3).double()   \n",
        "      self.pool = nn.MaxPool2d(2, 2).double()\n",
        "      self.conv2 = nn.Conv2d(6, 16, 3).double()\n",
        "      self.fc1 = nn.Linear(16 * 5 * 5, 120).double()\n",
        "      self.fc2 = nn.Linear(120, 84).double()\n",
        "      self.fc3 = nn.Linear(84, 10).double()\n",
        "\n",
        "    def forward(self, x):\n",
        "      x = self.pool(F.relu(self.conv1(x)))\n",
        "      x = self.pool(F.relu(self.conv2(x)))\n",
        "      x = x.view(-1, 16 * 5 * 5) \n",
        "      x = F.relu(self.fc1(x))\n",
        "      x = F.relu(self.fc2(x))\n",
        "      x = F.log_softmax(self.fc3(x), dim=1)\n",
        "      return x\n",
        "      \n",
        "  print(\"Initializing the network ...\")\n",
        "  net = Net()\n",
        "  criterion = nn.CrossEntropyLoss()\n",
        "  optimizer = optim.SGD(net.parameters(), lr=0.001, momentum=0.9) \n",
        "\n",
        "  print(\"Training the network ...\")\n",
        "  for e in range(epochs):  \n",
        "    print(\"Epoch: \", e+1)\n",
        "    for idx, data in enumerate(train_loader, 0):\n",
        "      inputs = torch.from_numpy(test_img.reshape(-1,1,28,28))\n",
        "      labels = torch.from_numpy(test_lbl.astype(int))\n",
        "      optimizer.zero_grad() \n",
        "      outputs = net(inputs) \n",
        "      loss = criterion(outputs, labels)\n",
        "      loss.backward()\n",
        "      optimizer.step() \n",
        "      losses.append(loss.item())\n",
        "\n",
        "  print(\"Evaluating on training data ...\")\n",
        "  correct = 0\n",
        "  total = 0\n",
        "  with torch.no_grad():\n",
        "    for data in train_loader:\n",
        "      inputs = torch.from_numpy(test_img.reshape(-1,1,28,28))\n",
        "      labels = torch.from_numpy(test_lbl.astype(int))\n",
        "      outputs = net(inputs)\n",
        "      _, predicted = torch.max(outputs.data, 1)\n",
        "      total += labels.size(0)\n",
        "      correct += (predicted == labels).sum().item()\n",
        "  train_acc = correct / total\n",
        "\n",
        "  print(\"Evaluating on test data ...\")\n",
        "  correct = 0\n",
        "  total = 0\n",
        "  with torch.no_grad():\n",
        "    for data in test_loader:\n",
        "      inputs = torch.from_numpy(test_img.reshape(-1,1,28,28))\n",
        "      labels = torch.from_numpy(test_lbl.astype(int))\n",
        "      outputs = net(inputs)\n",
        "      _, predicted = torch.max(outputs.data, 1)\n",
        "      total += labels.size(0)\n",
        "      correct += (predicted == labels).sum().item()\n",
        "  test_acc = correct / total\n",
        "\n",
        "  return losses, train_acc, test_acc\n"
      ],
      "execution_count": 0,
      "outputs": []
    },
    {
      "cell_type": "code",
      "metadata": {
        "id": "Hrq-nkWtQw3a",
        "colab_type": "code",
        "colab": {}
      },
      "source": [
        "feature_sizes = []\n",
        "accuracy_cnn = []\n",
        "variance_list = [0.5, 0.75, 0.9, 0.95]\n",
        "for variance in variance_list:\n",
        "  pca = PCA(variance)\n",
        "  pca_data = pca.fit_transform(mnist.data)\n",
        "  feature_sizes.append(transformed_data.shape[-1])\n",
        "  reconstructed_images = pca.inverse_transform(pca_data)\n",
        "\n",
        "  train_img, test_img, train_lbl, test_lbl = train_test_split(reconstructed_images, mnist.target, shuffle=False)\n",
        "  scaler = StandardScaler()\n",
        "  train_img = scaler.fit_transform(train_img)\n",
        "  test_img = scaler.transform(test_img)\n",
        "\n",
        "  losses, train_acc, test_acc = eval_net(epochs=2, batch_size=100)\n",
        "  print(\"Training accuracy: \", train_acc)\n",
        "  print(\"Test accuracy: \", test_acc)\n",
        "  accuracy_cnn.append(test_acc)\n",
        "  plt.plot(losses)\n",
        "  plt.show()"
      ],
      "execution_count": 0,
      "outputs": []
    },
    {
      "cell_type": "code",
      "metadata": {
        "id": "8VyT9Leq6nwg",
        "colab_type": "code",
        "colab": {
          "base_uri": "https://localhost:8080/",
          "height": 265
        },
        "outputId": "622ef11b-2f54-4714-e39f-420f1c696797"
      },
      "source": [
        "plt.plot([0.5,0.75,0.9,0.95], accuracy_cnn, label='cnn')\n",
        "plt.plot([0.5,0.75,0.9,0.95], accuracy_mlp, label='mlp')\n",
        "plt.legend(loc='best')\n",
        "plt.show()"
      ],
      "execution_count": 18,
      "outputs": [
        {
          "output_type": "display_data",
          "data": {
            "image/png": "[encoded data removed]",
            "text/plain": [
              "<Figure size 432x288 with 1 Axes>"
            ]
          },
          "metadata": {
            "tags": []
          }
        }
      ]
    }
  ]
}